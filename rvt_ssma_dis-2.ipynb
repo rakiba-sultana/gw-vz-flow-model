{
 "cells": [
  {
   "cell_type": "markdown",
   "id": "fd30b7a3-fbaa-42e6-8c5f-0dcbb724da77",
   "metadata": {},
   "source": [
    "Unconfined, 1 layer, transient structured grid model with a pumping well and an observation well #newton under-relaxation"
   ]
  },
  {
   "cell_type": "code",
   "execution_count": 1,
   "id": "0b5d1011-5fa4-46fc-a9f7-a25e4d021b45",
   "metadata": {},
   "outputs": [],
   "source": [
    "import flopy\n",
    "import pathlib as pl\n",
    "import glob\n",
    "\n",
    "from flopy.utils import GridIntersect, Raster, binaryfile\n",
    "from shapely.geometry import Polygon, Point\n",
    "from rasterio.transform import from_origin\n",
    "\n",
    "import numpy as np\n",
    "import matplotlib.pyplot as plt\n",
    "import pandas as pd\n",
    "import geopandas as gpd\n",
    "import rasterio as rio\n",
    "import scipy.interpolate\n",
    "import os\n",
    "import flopy.utils.binaryfile as bf"
   ]
  },
  {
   "cell_type": "code",
   "execution_count": 2,
   "id": "0021b202-61b6-4c85-85e3-df274edbff11",
   "metadata": {},
   "outputs": [
    {
     "data": {
      "text/plain": [
       "'3.8.0'"
      ]
     },
     "execution_count": 2,
     "metadata": {},
     "output_type": "execute_result"
    }
   ],
   "source": [
    "flopy.__version__"
   ]
  },
  {
   "cell_type": "markdown",
   "id": "6bbca321-8548-42e6-8b7f-fd22f00aedc8",
   "metadata": {},
   "source": [
    "Load files of interpolated properties "
   ]
  },
  {
   "cell_type": "code",
   "execution_count": 3,
   "id": "fed252c9-c5be-402f-b9d6-0f78caac225d",
   "metadata": {},
   "outputs": [],
   "source": [
    "top_data = np.loadtxt('../source_data_props/interpolated_properties/top_elev_int.txt', delimiter=' ')\n",
    "bot_data = np.loadtxt('../source_data_props/interpolated_properties/bottom_elev_int.txt', delimiter=' ')\n",
    "K_data = np.loadtxt('../source_data_props/interpolated_properties/K_cond_int.txt', delimiter=' ')\n",
    "evt_data = np.loadtxt('../source_data_props/interpolated_properties/evt_surf_elev_int.txt', delimiter=' ')\n",
    "rch_data = np.loadtxt('../source_data_props/interpolated_properties/rch_int.txt', delimiter=' ')"
   ]
  },
  {
   "cell_type": "code",
   "execution_count": 4,
   "id": "e08a2831-893d-47fc-9456-ddeebb8e9801",
   "metadata": {},
   "outputs": [],
   "source": [
    "heads_data = pd.read_csv('../source_data_props/interpolated_properties/heads_int.csv')"
   ]
  },
  {
   "cell_type": "markdown",
   "id": "93681714-6f3d-4ef4-9eeb-839155182866",
   "metadata": {},
   "source": [
    "Make simulation and model object with relevant packages"
   ]
  },
  {
   "cell_type": "code",
   "execution_count": 5,
   "id": "05da957f-5bd2-45f8-8c83-e57f77211a3a",
   "metadata": {},
   "outputs": [],
   "source": [
    "sim = flopy.mf6.MFSimulation(\n",
    "    sim_name='rvt_ssma-2', exe_name=\"mf6\", version=\"mf6\", sim_ws=\".\"\n",
    ") "
   ]
  },
  {
   "cell_type": "code",
   "execution_count": 6,
   "id": "29d86a2e-7256-4387-a49c-486c9d78a967",
   "metadata": {},
   "outputs": [],
   "source": [
    "tdis = flopy.mf6.modflow.mftdis.ModflowTdis(\n",
    "    sim,\n",
    "    pname=\"tdis\",\n",
    "    time_units=\"DAYS\",\n",
    "    nper=3,\n",
    "    perioddata=[\n",
    "        (1.00, 1,  1.2),\n",
    "        (0.161, 10, 1.2), #updated\n",
    "        (0.0019, 10, 1.2) #updated\n",
    "    ]\n",
    ")"
   ]
  },
  {
   "cell_type": "code",
   "execution_count": 7,
   "id": "ea13fbdf-0e29-4be5-b045-07df389ea93e",
   "metadata": {},
   "outputs": [],
   "source": [
    "ims = flopy.mf6.ModflowIms(sim, print_option='ALL', pname='IMS', complexity='MODERATE', under_relaxation = 'DBD', outer_dvclose=1e-3, inner_dvclose=1e-6)"
   ]
  },
  {
   "cell_type": "code",
   "execution_count": 8,
   "id": "ded5fa5b-dde5-4e05-a226-08228db8e9b6",
   "metadata": {},
   "outputs": [],
   "source": [
    "m = flopy.mf6.ModflowGwf(sim, modelname='rvt_ssma-2', model_nam_file='rvt_ssma-2.nam', save_flows=True, newtonoptions=['under_relaxation'])"
   ]
  },
  {
   "cell_type": "code",
   "execution_count": 9,
   "id": "354cb7f2-60d8-4ddd-ae09-b9f2c862229c",
   "metadata": {},
   "outputs": [],
   "source": [
    "xlen = 300.0\n",
    "ylen = 300.0\n",
    "nrow = 200\n",
    "ncol = 200"
   ]
  },
  {
   "cell_type": "code",
   "execution_count": 10,
   "id": "395f7ee7-fef3-4162-8f78-7d81633b1e74",
   "metadata": {},
   "outputs": [],
   "source": [
    "dis = flopy.mf6.ModflowGwfdis(\n",
    "    m,\n",
    "    length_units='FEET',\n",
    "    xorigin=593583.491,\n",
    "    yorigin=846116.344,\n",
    "    nlay=1,\n",
    "    nrow=nrow,\n",
    "    ncol=ncol,\n",
    "    delr = np.full(ncol, xlen / ncol, dtype=float),\n",
    "    delc = np.full(nrow, ylen / nrow, dtype=float), \n",
    "    top=top_data,\n",
    "    botm=bot_data,\n",
    "    pname='DIS'\n",
    ")"
   ]
  },
  {
   "cell_type": "code",
   "execution_count": 11,
   "id": "052e42ca-da36-4d7c-bc4d-9cb7e53e464b",
   "metadata": {},
   "outputs": [],
   "source": [
    "ic = flopy.mf6.ModflowGwfic(m, pname=\"IC\", strt=top_data)"
   ]
  },
  {
   "cell_type": "code",
   "execution_count": 12,
   "id": "46bc96cf-3bde-4ef9-a797-f3bb018ff82c",
   "metadata": {},
   "outputs": [],
   "source": [
    "npf = flopy.mf6.ModflowGwfnpf(m, icelltype=1, k=K_data*0.25, pname = \"NPF\", save_flows=True)"
   ]
  },
  {
   "cell_type": "code",
   "execution_count": 13,
   "id": "56f6759b-dba1-4401-b2f4-a271851b2da3",
   "metadata": {},
   "outputs": [],
   "source": [
    "chd_rec = {0: [], 1: [], 2: []}\n",
    "\n",
    "for _, row in heads_data.iterrows():\n",
    "    for i in range(3): #three stress periods\n",
    "        node = (0, int(row['row']), int(row['col']), row[f'h_t1s{i+1}']) #tuple\n",
    "        if node not in chd_rec[i]: #removes duplicates\n",
    "            chd_rec[i].append(node)"
   ]
  },
  {
   "cell_type": "code",
   "execution_count": 14,
   "id": "f22ca006-8f86-498e-8ae9-ce2c9ab65da7",
   "metadata": {},
   "outputs": [],
   "source": [
    "chd = flopy.mf6.ModflowGwfchd(\n",
    "    model=m,\n",
    "    maxbound=len(chd_rec),\n",
    "    stress_period_data=chd_rec,\n",
    "    save_flows=True,\n",
    ")"
   ]
  },
  {
   "cell_type": "code",
   "execution_count": 15,
   "id": "18db85b3-0a13-4a0a-b24e-96cd604efd42",
   "metadata": {},
   "outputs": [],
   "source": [
    "rch_rec = {0: [], 1: [], 2: []}   \n",
    "\n",
    "for row in range(nrow):\n",
    "    for col in range(ncol):\n",
    "        rch_rec[0].append((0, row, col, rch_data[row, col]))\n",
    "        rch_rec[1].append((0, row, col, rch_data[row, col]))\n",
    "        rch_rec[2].append((0, row, col, rch_data[row, col]))"
   ]
  },
  {
   "cell_type": "code",
   "execution_count": 16,
   "id": "121b2879-ecc6-4fcd-b403-3d9a44ac379c",
   "metadata": {},
   "outputs": [],
   "source": [
    "rch = flopy.mf6.ModflowGwfrch(\n",
    "    m,\n",
    "    maxbound=len(rch_rec),  \n",
    "    stress_period_data=rch_rec  \n",
    ")"
   ]
  },
  {
   "cell_type": "code",
   "execution_count": 17,
   "id": "396731d3-3da5-428d-b465-652f0e629a8d",
   "metadata": {},
   "outputs": [],
   "source": [
    "evt_rec = {0: [], 1: [], 2: []}  \n",
    "\n",
    "for row in range(nrow):\n",
    "    for col in range(ncol):\n",
    "        evt_surface = evt_data[row, col].astype(np.float32)\n",
    "        evt_rec[0].append((0, row, col, evt_surface, 0.007, 8.0))  #layer, row, col, surface, rate, depth\n",
    "        evt_rec[1].append((0, row, col, evt_surface, 0.007, 8.0))\n",
    "        evt_rec[2].append((0, row, col, evt_surface, 0.007, 8.0))"
   ]
  },
  {
   "cell_type": "code",
   "execution_count": 18,
   "id": "efe07cd3-d563-4458-b740-0a6b6b6117ae",
   "metadata": {},
   "outputs": [],
   "source": [
    "evt = flopy.mf6.ModflowGwfevt(\n",
    "    m,\n",
    "    pname=\"evt\",\n",
    "    maxbound=len(evt_rec),  \n",
    "    stress_period_data=evt_rec  \n",
    ")"
   ]
  },
  {
   "cell_type": "code",
   "execution_count": 19,
   "id": "07ad7a72-a49e-4439-bbe2-66e1416e2e59",
   "metadata": {},
   "outputs": [],
   "source": [
    "sto = flopy.mf6.ModflowGwfsto(m, pname = \"STO\", iconvert = 3, ss = 1e-07, sy = 0.00753,steady_state={0: True}, transient={1: True},)  #the calibrated values "
   ]
  },
  {
   "cell_type": "code",
   "execution_count": 20,
   "id": "a2cd8f24-5d27-413b-b872-f746d6b568ad",
   "metadata": {},
   "outputs": [],
   "source": [
    "stress_period_data_wel = { # zero-based indexing\n",
    "    0: [((0, 101, 98), 0)],\n",
    "    1: [((0, 101, 98), -63.5)],  \n",
    "    2: [((0, 101, 98), 0)],\n",
    "}"
   ]
  },
  {
   "cell_type": "code",
   "execution_count": 21,
   "id": "fc73f230-d8a1-4eff-a710-0527f29d0aa7",
   "metadata": {},
   "outputs": [],
   "source": [
    "wel = flopy.mf6.ModflowGwfwel(m, pname = \"WEL\", stress_period_data=stress_period_data_wel,)"
   ]
  },
  {
   "cell_type": "code",
   "execution_count": 22,
   "id": "e7898d0c-336b-4288-9f78-45d29f710351",
   "metadata": {},
   "outputs": [],
   "source": [
    "obsdict = {}\n",
    "obslist = [[\"w1006\", \"head\", (0, 100, 100)]]\n",
    "obsdict[\"w1006-2.csv\"] = obslist\n",
    "obs = flopy.mf6.ModflowUtlobs(m, print_input=False, continuous=obsdict)"
   ]
  },
  {
   "cell_type": "code",
   "execution_count": 23,
   "id": "6f6fb47a-fc2a-4bf6-bfb4-1ab776d9c20d",
   "metadata": {},
   "outputs": [],
   "source": [
    "headfile = \"rvt_ssma-2.hds\"\n",
    "head_filerecord = [headfile]\n",
    "budgetfile = \"rvt_ssma-2.cbb\"\n",
    "budget_filerecord = [budgetfile]\n",
    "saverecord = [(\"HEAD\", \"ALL\"), (\"BUDGET\", \"LAST\")]\n",
    "printrecord = [(\"HEAD\", \"LAST\")]\n",
    "oc = flopy.mf6.ModflowGwfoc(\n",
    "    m,\n",
    "    saverecord=saverecord,\n",
    "    head_filerecord=head_filerecord,\n",
    "    budget_filerecord=budget_filerecord,\n",
    "    printrecord=printrecord,\n",
    ")"
   ]
  },
  {
   "cell_type": "code",
   "execution_count": 24,
   "id": "3d0db088-4201-4b8f-94be-8b273de4445c",
   "metadata": {},
   "outputs": [
    {
     "name": "stdout",
     "output_type": "stream",
     "text": [
      "writing simulation...\n",
      "  writing simulation name file...\n",
      "  writing simulation tdis package...\n",
      "  writing solution package ims...\n",
      "  writing model rvt_ssma-2...\n",
      "    writing model name file...\n",
      "    writing package dis...\n",
      "    writing package ic...\n",
      "    writing package npf...\n",
      "    writing package chd_0...\n",
      "INFORMATION: maxbound in ('gwf6', 'chd', 'dimensions') changed to 796 based on size of stress_period_data\n",
      "    writing package rch_0...\n",
      "INFORMATION: maxbound in ('gwf6', 'rch', 'dimensions') changed to 40000 based on size of stress_period_data\n",
      "    writing package evt...\n",
      "INFORMATION: maxbound in ('gwf6', 'evt', 'dimensions') changed to 40000 based on size of stress_period_data\n",
      "    writing package sto...\n",
      "    writing package wel...\n",
      "INFORMATION: maxbound in ('gwf6', 'wel', 'dimensions') changed to 1 based on size of stress_period_data\n",
      "    writing package obs_0...\n",
      "    writing package oc...\n"
     ]
    }
   ],
   "source": [
    "sim.write_simulation()"
   ]
  },
  {
   "cell_type": "code",
   "execution_count": 25,
   "id": "c40766b6-e19c-4bc0-b1ab-2775a70346dd",
   "metadata": {},
   "outputs": [
    {
     "name": "stdout",
     "output_type": "stream",
     "text": [
      "FloPy is using the following executable to run the model: mf6.exe\n",
      "                                   MODFLOW 6\n",
      "                U.S. GEOLOGICAL SURVEY MODULAR HYDROLOGIC MODEL\n",
      "                            VERSION 6.5.0 05/23/2024\n",
      "\n",
      "   MODFLOW 6 compiled May 23 2024 18:06:57 with Intel(R) Fortran Intel(R) 64\n",
      "   Compiler Classic for applications running on Intel(R) 64, Version 2021.7.0\n",
      "                             Build 20220726_000000\n",
      "\n",
      "This software has been approved for release by the U.S. Geological \n",
      "Survey (USGS). Although the software has been subjected to rigorous \n",
      "review, the USGS reserves the right to update the software as needed \n",
      "pursuant to further analysis and review. No warranty, expressed or \n",
      "implied, is made by the USGS or the U.S. Government as to the \n",
      "functionality of the software and related material nor shall the \n",
      "fact of release constitute any such warranty. Furthermore, the \n",
      "software is released on condition that neither the USGS nor the U.S. \n",
      "Government shall be held liable for any damages resulting from its \n",
      "authorized or unauthorized use. Also refer to the USGS Water \n",
      "Resources Software User Rights Notice for complete use, copyright, \n",
      "and distribution information.\n",
      "\n",
      " \n",
      " MODFLOW runs in SEQUENTIAL mode\n",
      " \n",
      " Run start date and time (yyyy/mm/dd hh:mm:ss): 2025/01/11 20:30:11\n",
      " \n",
      " Writing simulation list file: mfsim.lst\n",
      " Using Simulation name file: mfsim.nam\n",
      " \n",
      "    Solving:  Stress period:     1    Time step:     1\n",
      "    Solving:  Stress period:     2    Time step:     1\n",
      "    Solving:  Stress period:     2    Time step:     2\n",
      "    Solving:  Stress period:     2    Time step:     3\n",
      "    Solving:  Stress period:     2    Time step:     4\n",
      "    Solving:  Stress period:     2    Time step:     5\n",
      "    Solving:  Stress period:     2    Time step:     6\n",
      "    Solving:  Stress period:     2    Time step:     7\n",
      "    Solving:  Stress period:     2    Time step:     8\n",
      "    Solving:  Stress period:     2    Time step:     9\n",
      "    Solving:  Stress period:     2    Time step:    10\n",
      "    Solving:  Stress period:     3    Time step:     1\n",
      "    Solving:  Stress period:     3    Time step:     2\n",
      "    Solving:  Stress period:     3    Time step:     3\n",
      "    Solving:  Stress period:     3    Time step:     4\n",
      "    Solving:  Stress period:     3    Time step:     5\n",
      "    Solving:  Stress period:     3    Time step:     6\n",
      "    Solving:  Stress period:     3    Time step:     7\n",
      "    Solving:  Stress period:     3    Time step:     8\n",
      "    Solving:  Stress period:     3    Time step:     9\n",
      "    Solving:  Stress period:     3    Time step:    10\n",
      " \n",
      " Run end date and time (yyyy/mm/dd hh:mm:ss): 2025/01/11 20:30:17\n",
      " Elapsed run time:  6.422 Seconds\n",
      " \n",
      " Normal termination of simulation.\n"
     ]
    }
   ],
   "source": [
    "success, buff = sim.run_simulation(\n",
    "    silent=None,\n",
    "    pause=False,\n",
    "    report=False,\n",
    "    processors=None,\n",
    "    normal_msg='normal termination',\n",
    "    use_async=False,\n",
    "    cargs=None,\n",
    "    custom_print=None,\n",
    ")"
   ]
  },
  {
   "cell_type": "code",
   "execution_count": 26,
   "id": "428656db-acd7-42ce-851d-4694009bd951",
   "metadata": {},
   "outputs": [
    {
     "data": {
      "text/html": [
       "<div>\n",
       "<style scoped>\n",
       "    .dataframe tbody tr th:only-of-type {\n",
       "        vertical-align: middle;\n",
       "    }\n",
       "\n",
       "    .dataframe tbody tr th {\n",
       "        vertical-align: top;\n",
       "    }\n",
       "\n",
       "    .dataframe thead th {\n",
       "        text-align: right;\n",
       "    }\n",
       "</style>\n",
       "<table border=\"1\" class=\"dataframe\">\n",
       "  <thead>\n",
       "    <tr style=\"text-align: right;\">\n",
       "      <th></th>\n",
       "      <th>kstp</th>\n",
       "      <th>kper</th>\n",
       "      <th>pertim</th>\n",
       "      <th>totim</th>\n",
       "      <th>text</th>\n",
       "      <th>ncol</th>\n",
       "      <th>nrow</th>\n",
       "      <th>ilay</th>\n",
       "    </tr>\n",
       "  </thead>\n",
       "  <tbody>\n",
       "    <tr>\n",
       "      <th>52</th>\n",
       "      <td>1</td>\n",
       "      <td>1</td>\n",
       "      <td>1.000000</td>\n",
       "      <td>1.000000</td>\n",
       "      <td>HEAD</td>\n",
       "      <td>200</td>\n",
       "      <td>200</td>\n",
       "      <td>1</td>\n",
       "    </tr>\n",
       "    <tr>\n",
       "      <th>320104</th>\n",
       "      <td>1</td>\n",
       "      <td>2</td>\n",
       "      <td>0.006202</td>\n",
       "      <td>1.006202</td>\n",
       "      <td>HEAD</td>\n",
       "      <td>200</td>\n",
       "      <td>200</td>\n",
       "      <td>1</td>\n",
       "    </tr>\n",
       "    <tr>\n",
       "      <th>640156</th>\n",
       "      <td>2</td>\n",
       "      <td>2</td>\n",
       "      <td>0.013645</td>\n",
       "      <td>1.013645</td>\n",
       "      <td>HEAD</td>\n",
       "      <td>200</td>\n",
       "      <td>200</td>\n",
       "      <td>1</td>\n",
       "    </tr>\n",
       "    <tr>\n",
       "      <th>960208</th>\n",
       "      <td>3</td>\n",
       "      <td>2</td>\n",
       "      <td>0.022576</td>\n",
       "      <td>1.022576</td>\n",
       "      <td>HEAD</td>\n",
       "      <td>200</td>\n",
       "      <td>200</td>\n",
       "      <td>1</td>\n",
       "    </tr>\n",
       "    <tr>\n",
       "      <th>1280260</th>\n",
       "      <td>4</td>\n",
       "      <td>2</td>\n",
       "      <td>0.033293</td>\n",
       "      <td>1.033293</td>\n",
       "      <td>HEAD</td>\n",
       "      <td>200</td>\n",
       "      <td>200</td>\n",
       "      <td>1</td>\n",
       "    </tr>\n",
       "    <tr>\n",
       "      <th>1600312</th>\n",
       "      <td>5</td>\n",
       "      <td>2</td>\n",
       "      <td>0.046154</td>\n",
       "      <td>1.046154</td>\n",
       "      <td>HEAD</td>\n",
       "      <td>200</td>\n",
       "      <td>200</td>\n",
       "      <td>1</td>\n",
       "    </tr>\n",
       "    <tr>\n",
       "      <th>1920364</th>\n",
       "      <td>6</td>\n",
       "      <td>2</td>\n",
       "      <td>0.061587</td>\n",
       "      <td>1.061587</td>\n",
       "      <td>HEAD</td>\n",
       "      <td>200</td>\n",
       "      <td>200</td>\n",
       "      <td>1</td>\n",
       "    </tr>\n",
       "    <tr>\n",
       "      <th>2240416</th>\n",
       "      <td>7</td>\n",
       "      <td>2</td>\n",
       "      <td>0.080107</td>\n",
       "      <td>1.080107</td>\n",
       "      <td>HEAD</td>\n",
       "      <td>200</td>\n",
       "      <td>200</td>\n",
       "      <td>1</td>\n",
       "    </tr>\n",
       "    <tr>\n",
       "      <th>2560468</th>\n",
       "      <td>8</td>\n",
       "      <td>2</td>\n",
       "      <td>0.102330</td>\n",
       "      <td>1.102330</td>\n",
       "      <td>HEAD</td>\n",
       "      <td>200</td>\n",
       "      <td>200</td>\n",
       "      <td>1</td>\n",
       "    </tr>\n",
       "    <tr>\n",
       "      <th>2880520</th>\n",
       "      <td>9</td>\n",
       "      <td>2</td>\n",
       "      <td>0.128998</td>\n",
       "      <td>1.128998</td>\n",
       "      <td>HEAD</td>\n",
       "      <td>200</td>\n",
       "      <td>200</td>\n",
       "      <td>1</td>\n",
       "    </tr>\n",
       "    <tr>\n",
       "      <th>3200572</th>\n",
       "      <td>10</td>\n",
       "      <td>2</td>\n",
       "      <td>0.161000</td>\n",
       "      <td>1.161000</td>\n",
       "      <td>HEAD</td>\n",
       "      <td>200</td>\n",
       "      <td>200</td>\n",
       "      <td>1</td>\n",
       "    </tr>\n",
       "    <tr>\n",
       "      <th>3520624</th>\n",
       "      <td>1</td>\n",
       "      <td>3</td>\n",
       "      <td>0.000073</td>\n",
       "      <td>1.161073</td>\n",
       "      <td>HEAD</td>\n",
       "      <td>200</td>\n",
       "      <td>200</td>\n",
       "      <td>1</td>\n",
       "    </tr>\n",
       "    <tr>\n",
       "      <th>3840676</th>\n",
       "      <td>2</td>\n",
       "      <td>3</td>\n",
       "      <td>0.000161</td>\n",
       "      <td>1.161161</td>\n",
       "      <td>HEAD</td>\n",
       "      <td>200</td>\n",
       "      <td>200</td>\n",
       "      <td>1</td>\n",
       "    </tr>\n",
       "    <tr>\n",
       "      <th>4160728</th>\n",
       "      <td>3</td>\n",
       "      <td>3</td>\n",
       "      <td>0.000266</td>\n",
       "      <td>1.161266</td>\n",
       "      <td>HEAD</td>\n",
       "      <td>200</td>\n",
       "      <td>200</td>\n",
       "      <td>1</td>\n",
       "    </tr>\n",
       "    <tr>\n",
       "      <th>4480780</th>\n",
       "      <td>4</td>\n",
       "      <td>3</td>\n",
       "      <td>0.000393</td>\n",
       "      <td>1.161393</td>\n",
       "      <td>HEAD</td>\n",
       "      <td>200</td>\n",
       "      <td>200</td>\n",
       "      <td>1</td>\n",
       "    </tr>\n",
       "    <tr>\n",
       "      <th>4800832</th>\n",
       "      <td>5</td>\n",
       "      <td>3</td>\n",
       "      <td>0.000545</td>\n",
       "      <td>1.161545</td>\n",
       "      <td>HEAD</td>\n",
       "      <td>200</td>\n",
       "      <td>200</td>\n",
       "      <td>1</td>\n",
       "    </tr>\n",
       "    <tr>\n",
       "      <th>5120884</th>\n",
       "      <td>6</td>\n",
       "      <td>3</td>\n",
       "      <td>0.000727</td>\n",
       "      <td>1.161727</td>\n",
       "      <td>HEAD</td>\n",
       "      <td>200</td>\n",
       "      <td>200</td>\n",
       "      <td>1</td>\n",
       "    </tr>\n",
       "    <tr>\n",
       "      <th>5440936</th>\n",
       "      <td>7</td>\n",
       "      <td>3</td>\n",
       "      <td>0.000945</td>\n",
       "      <td>1.161945</td>\n",
       "      <td>HEAD</td>\n",
       "      <td>200</td>\n",
       "      <td>200</td>\n",
       "      <td>1</td>\n",
       "    </tr>\n",
       "    <tr>\n",
       "      <th>5760988</th>\n",
       "      <td>8</td>\n",
       "      <td>3</td>\n",
       "      <td>0.001208</td>\n",
       "      <td>1.162208</td>\n",
       "      <td>HEAD</td>\n",
       "      <td>200</td>\n",
       "      <td>200</td>\n",
       "      <td>1</td>\n",
       "    </tr>\n",
       "    <tr>\n",
       "      <th>6081040</th>\n",
       "      <td>9</td>\n",
       "      <td>3</td>\n",
       "      <td>0.001522</td>\n",
       "      <td>1.162522</td>\n",
       "      <td>HEAD</td>\n",
       "      <td>200</td>\n",
       "      <td>200</td>\n",
       "      <td>1</td>\n",
       "    </tr>\n",
       "    <tr>\n",
       "      <th>6401092</th>\n",
       "      <td>10</td>\n",
       "      <td>3</td>\n",
       "      <td>0.001900</td>\n",
       "      <td>1.162900</td>\n",
       "      <td>HEAD</td>\n",
       "      <td>200</td>\n",
       "      <td>200</td>\n",
       "      <td>1</td>\n",
       "    </tr>\n",
       "  </tbody>\n",
       "</table>\n",
       "</div>"
      ],
      "text/plain": [
       "         kstp  kper    pertim     totim  text  ncol  nrow  ilay\n",
       "52          1     1  1.000000  1.000000  HEAD   200   200     1\n",
       "320104      1     2  0.006202  1.006202  HEAD   200   200     1\n",
       "640156      2     2  0.013645  1.013645  HEAD   200   200     1\n",
       "960208      3     2  0.022576  1.022576  HEAD   200   200     1\n",
       "1280260     4     2  0.033293  1.033293  HEAD   200   200     1\n",
       "1600312     5     2  0.046154  1.046154  HEAD   200   200     1\n",
       "1920364     6     2  0.061587  1.061587  HEAD   200   200     1\n",
       "2240416     7     2  0.080107  1.080107  HEAD   200   200     1\n",
       "2560468     8     2  0.102330  1.102330  HEAD   200   200     1\n",
       "2880520     9     2  0.128998  1.128998  HEAD   200   200     1\n",
       "3200572    10     2  0.161000  1.161000  HEAD   200   200     1\n",
       "3520624     1     3  0.000073  1.161073  HEAD   200   200     1\n",
       "3840676     2     3  0.000161  1.161161  HEAD   200   200     1\n",
       "4160728     3     3  0.000266  1.161266  HEAD   200   200     1\n",
       "4480780     4     3  0.000393  1.161393  HEAD   200   200     1\n",
       "4800832     5     3  0.000545  1.161545  HEAD   200   200     1\n",
       "5120884     6     3  0.000727  1.161727  HEAD   200   200     1\n",
       "5440936     7     3  0.000945  1.161945  HEAD   200   200     1\n",
       "5760988     8     3  0.001208  1.162208  HEAD   200   200     1\n",
       "6081040     9     3  0.001522  1.162522  HEAD   200   200     1\n",
       "6401092    10     3  0.001900  1.162900  HEAD   200   200     1"
      ]
     },
     "execution_count": 26,
     "metadata": {},
     "output_type": "execute_result"
    }
   ],
   "source": [
    "hobj = flopy.utils.HeadFile('rvt_ssma-2.hds', model=m)\n",
    "hobj.headers"
   ]
  },
  {
   "cell_type": "markdown",
   "id": "ddeb64df-9390-44f0-bbce-70ae176305e3",
   "metadata": {},
   "source": [
    "Plotting head distribution and well locations at the modelgrid"
   ]
  },
  {
   "cell_type": "code",
   "execution_count": 27,
   "id": "74bdd398-f75f-4c70-87d3-b91d1eda2236",
   "metadata": {},
   "outputs": [],
   "source": [
    "head_values = hobj.get_data(mflay=0)\n",
    "head_array = np.array(head_values)\n",
    "head_array = head_array.reshape(-1, 1)\n",
    "np.savetxt(\"rvt_ssma-2_hds.txt\", head_array, delimiter=\",\", newline=\"\\n\")"
   ]
  },
  {
   "cell_type": "code",
   "execution_count": 28,
   "id": "ecb42541-8257-45b3-9b03-74a2a59b247d",
   "metadata": {},
   "outputs": [],
   "source": [
    "well_locations = [\n",
    "    Point(593730.641, 846267.604),\n",
    "    Point(593729.391, 846264.894),\n",
    "    Point(593728.141, 846262.314),\n",
    "    Point(593728.871, 846256.484),\n",
    "    Point(593730.851, 846260.844),\n",
    "    Point(593732.221, 846263.654),\n",
    "    Point(593733.491, 846266.344),\n",
    "    Point(593735.321, 846270.994),\n",
    "    Point(593739.921, 846268.894),\n",
    "    Point(593737.941, 846264.394),\n",
    "    Point(593736.731, 846261.664),\n",
    "    Point(593735.251, 846258.954),\n",
    "    Point(593733.221, 846254.464)\n",
    "]\n",
    "\n",
    "head_data = {\n",
    "    \"TS1_SP1\": hobj.get_data(kstpkper=(0, 0)),\n",
    "    \"TS1_SP2\": hobj.get_data(kstpkper=(0, 1)),\n",
    "    \"TS1_SP3\": hobj.get_data(kstpkper=(0, 2))\n",
    "}"
   ]
  },
  {
   "cell_type": "code",
   "execution_count": 29,
   "id": "3ad314d2-5c02-435a-b586-4a82c4d20028",
   "metadata": {},
   "outputs": [],
   "source": [
    "def plot_head(head_name, head_data, well_locations, title_fontsize=8, tick_fontsize=8, cbar_fontsize=8, contour_fontsize=8):\n",
    "    fig, ax = plt.subplots(figsize=(5, 5))\n",
    "    ax.set_title(f\"Head - {head_name}\", fontsize=title_fontsize)\n",
    "\n",
    "    # Create map view\n",
    "    pmv = flopy.plot.PlotMapView(model=m, ax=ax)\n",
    "\n",
    "    # Plot the head data with a color array\n",
    "    img = pmv.plot_array(head_data, alpha=0.5, cmap='YlGnBu', edgecolor='none')\n",
    "\n",
    "    # Colorbar settings\n",
    "    cbar = plt.colorbar(img, ax=ax, label='Head (ft)')\n",
    "    cbar.ax.tick_params(labelsize=cbar_fontsize)\n",
    "    cbar.set_label('Head (ft)', fontsize=cbar_fontsize)\n",
    "\n",
    "    # Contour settings\n",
    "    levels = np.arange(4500, 5000, 0.05)\n",
    "    contour = pmv.contour_array(head_data, levels=levels, colors='black', linewidths=0.5, linestyles='None')\n",
    "    plt.clabel(contour, fontsize=contour_fontsize, fmt='%.2f')\n",
    "\n",
    "    # Plot well locations\n",
    "    well_x = [well.x for well in well_locations]\n",
    "    well_y = [well.y for well in well_locations]\n",
    "    ax.scatter(well_x, well_y, color='red', label='Wells', zorder=5, s=2)\n",
    "\n",
    "    # Axis settings\n",
    "    ax.tick_params(axis='both', labelsize=tick_fontsize)\n",
    "    plt.xticks(rotation=45)\n",
    "\n",
    "    # Save the plot\n",
    "    plt.tight_layout()\n",
    "    plt.savefig(f'img/heads_mf6_{head_name}.png', dpi=300)\n",
    "    plt.close()\n",
    "\n",
    "# Loop through head data and plot\n",
    "for head_name, head_array in head_data.items():\n",
    "    plot_head(head_name, head_array, well_locations)"
   ]
  },
  {
   "cell_type": "markdown",
   "id": "90eb2f9b-dcb7-4b2d-9884-6d574f4cfd1d",
   "metadata": {},
   "source": [
    "Plotting heads at observation well 1006"
   ]
  },
  {
   "cell_type": "code",
   "execution_count": 30,
   "id": "6bf71a52-8f4f-4ba3-9af1-f37ecfccd2ba",
   "metadata": {},
   "outputs": [],
   "source": [
    "df1 = pd.read_csv('w1006-2.csv')"
   ]
  },
  {
   "cell_type": "code",
   "execution_count": 31,
   "id": "5041e6c6-1883-49be-90f1-3c8d3bdf1e5f",
   "metadata": {},
   "outputs": [
    {
     "data": {
      "text/plain": [
       "['time', 'W1006']"
      ]
     },
     "execution_count": 31,
     "metadata": {},
     "output_type": "execute_result"
    }
   ],
   "source": [
    "df1.columns.tolist()"
   ]
  },
  {
   "cell_type": "code",
   "execution_count": 32,
   "id": "ca6ae72a-c980-47d6-902e-e86445b08fb6",
   "metadata": {
    "scrolled": true
   },
   "outputs": [
    {
     "data": {
      "image/png": "[encoded data removed]",
      "text/plain": [
       "<Figure size 640x480 with 1 Axes>"
      ]
     },
     "metadata": {},
     "output_type": "display_data"
    },
    {
     "data": {
      "text/plain": [
       "<Figure size 1000x600 with 0 Axes>"
      ]
     },
     "metadata": {},
     "output_type": "display_data"
    }
   ],
   "source": [
    "x1 = df1['time'][1:]\n",
    "y1 = df1['W1006'][1:]\n",
    "\n",
    "plt.plot(x1, y1, color='black', marker='o', linestyle='dashed', linewidth=2, markersize=6)\n",
    "\n",
    "plt.xlim(0.99, max(x1)+0.01) #have to count minus 1 day since the x axis starting from day 1\n",
    "plt.ylim(min(y1)-0.002, max(y1)+0.002)\n",
    "\n",
    "plt.xlabel('time (days)')\n",
    "plt.ylabel('hydraulic head (ft)')\n",
    "plt.title('w1006 heads-sim')\n",
    "\n",
    "plt.savefig('./img/W1006_heads_unconfined_1L.png', dpi=300)\n",
    "plt.figure(figsize=(10, 6))\n",
    "plt.show()"
   ]
  },
  {
   "cell_type": "markdown",
   "id": "8a487ca7-7ef0-4344-8082-0eace7834d1d",
   "metadata": {},
   "source": [
    "Plotting drawdown at observation well 1006"
   ]
  },
  {
   "cell_type": "code",
   "execution_count": 33,
   "id": "2f3fd204-c462-4497-ac84-85c0b3186f7c",
   "metadata": {},
   "outputs": [],
   "source": [
    "first_head = df1['W1006'][1]\n",
    "df1['Drawdown'] = df1['W1006'] - first_head"
   ]
  },
  {
   "cell_type": "code",
   "execution_count": 34,
   "id": "5d4cb1f5-0981-4e62-9cad-8138728057b5",
   "metadata": {},
   "outputs": [
    {
     "data": {
      "text/plain": [
       "4923.724846245835"
      ]
     },
     "execution_count": 34,
     "metadata": {},
     "output_type": "execute_result"
    }
   ],
   "source": [
    "first_head"
   ]
  },
  {
   "cell_type": "code",
   "execution_count": 35,
   "id": "a6589474-662f-442c-a413-e532ba39cfce",
   "metadata": {},
   "outputs": [],
   "source": [
    "first_time = df1['time'][1]\n",
    "df1['time_hours'] = (df1['time']-first_time)*24"
   ]
  },
  {
   "cell_type": "code",
   "execution_count": 36,
   "id": "ad11c4c4-69de-472f-a46e-e6b3014c55c1",
   "metadata": {},
   "outputs": [
    {
     "data": {
      "text/plain": [
       "1.006202163858"
      ]
     },
     "execution_count": 36,
     "metadata": {},
     "output_type": "execute_result"
    }
   ],
   "source": [
    "first_time"
   ]
  },
  {
   "cell_type": "code",
   "execution_count": 37,
   "id": "bf22e495-79b0-44f1-b3ba-80bd2b04db75",
   "metadata": {},
   "outputs": [],
   "source": [
    "df1.to_csv('drawdown_hours_w1006_sim_unconf_1L.csv', index=False)"
   ]
  },
  {
   "cell_type": "code",
   "execution_count": 38,
   "id": "b94c7d67-f901-48bc-a1a0-b12352436664",
   "metadata": {},
   "outputs": [],
   "source": [
    "df2 = pd.read_csv('drawdown_hours_w1006_sim_unconf_1L.csv')"
   ]
  },
  {
   "cell_type": "code",
   "execution_count": 39,
   "id": "ee7924f8-6f8e-40f5-85fe-e45030598be1",
   "metadata": {},
   "outputs": [
    {
     "data": {
      "text/plain": [
       "['time', 'W1006', 'Drawdown', 'time_hours']"
      ]
     },
     "execution_count": 39,
     "metadata": {},
     "output_type": "execute_result"
    }
   ],
   "source": [
    "df2.columns.tolist()"
   ]
  },
  {
   "cell_type": "code",
   "execution_count": 46,
   "id": "7cf09baa-ffd4-48ef-9bb6-b0928036fd33",
   "metadata": {},
   "outputs": [
    {
     "data": {
      "image/png": "[encoded data removed]",
      "text/plain": [
       "<Figure size 640x480 with 1 Axes>"
      ]
     },
     "metadata": {},
     "output_type": "display_data"
    },
    {
     "data": {
      "text/plain": [
       "<Figure size 1000x600 with 0 Axes>"
      ]
     },
     "metadata": {},
     "output_type": "display_data"
    }
   ],
   "source": [
    "x2 = df2['time_hours'][1:]  \n",
    "y2 = df2['Drawdown'][1:]\n",
    "\n",
    "plt.plot(x2, y2, color='black', marker='o', linestyle='dashed', linewidth=2, markersize=5)\n",
    "\n",
    "plt.xlabel('time(hours)')\n",
    "plt.ylabel('drawdown (ft)')\n",
    "plt.title('w1006 drawdown-sim')\n",
    "\n",
    "plt.savefig('./img/W1006_drawdown_sim_unconf_1L.png', dpi=300)\n",
    "plt.figure(figsize=(10, 6))\n",
    "plt.show()"
   ]
  },
  {
   "cell_type": "markdown",
   "id": "e0f0607c-e33a-4f90-abdd-b0e39ad06169",
   "metadata": {},
   "source": [
    "Plot field observational data"
   ]
  },
  {
   "cell_type": "code",
   "execution_count": 41,
   "id": "9b90de6f-6573-4c86-aa39-756d014c34a0",
   "metadata": {},
   "outputs": [],
   "source": [
    "df3 = pd.read_csv('../source_data_props/observation_data/pump_test_data_w1006.csv')"
   ]
  },
  {
   "cell_type": "code",
   "execution_count": 42,
   "id": "bf037447-45ed-4d90-9987-416408d6687e",
   "metadata": {},
   "outputs": [
    {
     "data": {
      "text/plain": [
       "['Hours Past Since Pumping',\n",
       " 'Head w1006 (cm)',\n",
       " 'dd w1006 (cm)',\n",
       " 'dd w1006 (ft)']"
      ]
     },
     "execution_count": 42,
     "metadata": {},
     "output_type": "execute_result"
    }
   ],
   "source": [
    "df3.columns.tolist()"
   ]
  },
  {
   "cell_type": "code",
   "execution_count": 43,
   "id": "23dc6ea4-2c86-4e20-9bc7-3c248a5aada4",
   "metadata": {},
   "outputs": [],
   "source": [
    "x3 = df3['Hours Past Since Pumping'][:2868]\n",
    "y3 = df3['dd w1006 (ft)'][:2868]"
   ]
  },
  {
   "cell_type": "code",
   "execution_count": 44,
   "id": "2f8abebc-8a83-4b8f-8f68-763c2df65a66",
   "metadata": {},
   "outputs": [
    {
     "data": {
      "image/png": "[encoded data removed]",
      "text/plain": [
       "<Figure size 640x480 with 1 Axes>"
      ]
     },
     "metadata": {},
     "output_type": "display_data"
    },
    {
     "data": {
      "text/plain": [
       "<Figure size 1000x600 with 0 Axes>"
      ]
     },
     "metadata": {},
     "output_type": "display_data"
    }
   ],
   "source": [
    "plt.plot(x3, y3, color='black', marker='o', linestyle='dashed', linewidth=2, markersize=2)\n",
    "\n",
    "#plt.xlim(0, max(x))\n",
    "\n",
    "#ax = plt.gca()\n",
    "#ax.invert_yaxis()\n",
    "\n",
    "plt.xlabel('time(hours)')\n",
    "plt.ylabel('drawdown (ft)')\n",
    "plt.title('w1006 drawdown-data')\n",
    "\n",
    "plt.savefig('./img/W1006_drawdown-data.png', dpi=300)\n",
    "plt.figure(figsize=(10, 6))\n",
    "plt.show()"
   ]
  },
  {
   "cell_type": "code",
   "execution_count": null,
   "id": "42790bc2-5425-46b3-9101-fede9c021430",
   "metadata": {},
   "outputs": [],
   "source": []
  },
  {
   "cell_type": "code",
   "execution_count": null,
   "id": "23609cde-dd69-4583-a612-f7a52cd04d31",
   "metadata": {},
   "outputs": [],
   "source": []
  },
  {
   "cell_type": "code",
   "execution_count": null,
   "id": "fdb301f3-8f20-4b12-a036-21309c14952a",
   "metadata": {},
   "outputs": [],
   "source": []
  },
  {
   "cell_type": "code",
   "execution_count": null,
   "id": "8ed8752d-4bdb-41cd-bc15-31c646bb1f62",
   "metadata": {},
   "outputs": [],
   "source": []
  }
 ],
 "metadata": {
  "kernelspec": {
   "display_name": "Python 3 (ipykernel)",
   "language": "python",
   "name": "python3"
  },
  "language_info": {
   "codemirror_mode": {
    "name": "ipython",
    "version": 3
   },
   "file_extension": ".py",
   "mimetype": "text/x-python",
   "name": "python",
   "nbconvert_exporter": "python",
   "pygments_lexer": "ipython3",
   "version": "3.11.9"
  }
 },
 "nbformat": 4,
 "nbformat_minor": 5
}
